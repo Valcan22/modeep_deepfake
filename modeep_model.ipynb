{
  "cells": [
    {
      "cell_type": "markdown",
      "source": [
        "# Connect and Import"
      ],
      "metadata": {
        "id": "8YfE6Wr_5T1K"
      }
    },
    {
      "cell_type": "code",
      "execution_count": null,
      "metadata": {
        "colab": {
          "base_uri": "https://localhost:8080/"
        },
        "id": "blH7iANCUhUt",
        "outputId": "cd75999d-a36b-4c83-fe74-38fd7d5599d2"
      },
      "outputs": [
        {
          "output_type": "stream",
          "name": "stdout",
          "text": [
            "Mounted at /content/drive\n"
          ]
        }
      ],
      "source": [
        "# Connect google drive\n",
        "from google.colab import drive\n",
        "drive.mount('/content/drive')"
      ]
    },
    {
      "cell_type": "code",
      "execution_count": null,
      "metadata": {
        "id": "d3APAnWb9qKx"
      },
      "outputs": [],
      "source": [
        "import os\n",
        "import pickle\n",
        "import time\n",
        "import torch\n",
        "import torch.nn as nn\n",
        "import multiprocessing\n",
        "import matplotlib.pyplot as plt\n",
        "\n",
        "from torch.utils.data import Dataset, DataLoader\n",
        "from torch.optim import Adam"
      ]
    },
    {
      "cell_type": "markdown",
      "source": [
        "# Dataset"
      ],
      "metadata": {
        "id": "oos0YGlTkg79"
      }
    },
    {
      "cell_type": "markdown",
      "source": [
        "Download dataset"
      ],
      "metadata": {
        "id": "a19T5G_Fos9j"
      }
    },
    {
      "cell_type": "code",
      "source": [
        "!cp /content/drive/MyDrive/deepfake_ds/ds_split_pkl.zip /content/\n",
        "!unzip /content/ds_split_pkl.zip -d /content/ds_split"
      ],
      "metadata": {
        "id": "AOzulTTSophv"
      },
      "execution_count": null,
      "outputs": []
    },
    {
      "cell_type": "code",
      "source": [
        "class VideoROIDataset(Dataset):\n",
        "    def __init__(self, txt_file, pickle_dir, buffer_size=44):                   # 44, 13, 7 batches\n",
        "        self.pickle_dir = pickle_dir\n",
        "        self.buffer_size = buffer_size\n",
        "        self.lock = multiprocessing.Lock()  # Lock per sincronizzazione\n",
        "\n",
        "        with open(txt_file, \"r\") as f:\n",
        "            self.video_list = [line.strip().split(\",\")[0] for line in f]\n",
        "\n",
        "        self.pickle_files = sorted(\n",
        "            [os.path.join(self.pickle_dir, f) for f in os.listdir(self.pickle_dir) if f.endswith(\".pkl\")],\n",
        "            key=lambda x: int(x.split(\"_\")[-1].split(\".\")[0])  # Ordina numericamente\n",
        "        )\n",
        "        self.total_videos = len(self.video_list)\n",
        "        self.data = []\n",
        "        self.current_file_idx = 0\n",
        "        self._load_next_buffer()\n",
        "\n",
        "    def _load_next_buffer(self):\n",
        "        with self.lock:\n",
        "            # Check buffer\n",
        "            if self.data:\n",
        "                return\n",
        "\n",
        "            if self.current_file_idx >= len(self.pickle_files):\n",
        "                return\n",
        "\n",
        "            self.data = []\n",
        "            files_loaded = 0\n",
        "            while files_loaded < self.buffer_size and self.current_file_idx < len(self.pickle_files):\n",
        "                file_path = self.pickle_files[self.current_file_idx]\n",
        "                print(f\"Loading file: {file_path}\")\n",
        "                with open(file_path, \"rb\") as f:\n",
        "                    self.data.extend(pickle.load(f))\n",
        "                self.current_file_idx += 1\n",
        "                files_loaded += 1\n",
        "\n",
        "            if not self.data:\n",
        "                raise IndexError(\"No pickle available!\")\n",
        "\n",
        "    def __getitem__(self, index):\n",
        "        if not self.data or index >= len(self.data):\n",
        "            self._load_next_buffer()\n",
        "            if not self.data:\n",
        "                raise IndexError(\"Buffer is empty after loading\")\n",
        "\n",
        "        video_data = self.data[index % len(self.data)]\n",
        "        eyes = torch.stack(video_data[\"eyes\"])\n",
        "        nose = torch.stack(video_data[\"nose\"])\n",
        "        mouth = torch.stack(video_data[\"mouth\"])\n",
        "        label = torch.tensor(video_data[\"label\"], dtype=torch.float32)\n",
        "\n",
        "        return {\"eyes\": eyes, \"nose\": nose, \"mouth\": mouth, \"label\": label}\n",
        "\n",
        "    def __len__(self):\n",
        "        return self.total_videos\n",
        "\n",
        "# Percorsi dei file e directory\n",
        "train_txt = \"/content/ds_split/train_ds.txt\"\n",
        "test_txt = \"/content/ds_split/test_ds.txt\"\n",
        "val_txt = \"/content/ds_split/val_ds.txt\"\n",
        "\n",
        "# Directory dei batch\n",
        "train_batches_dir = \"/content/ds_split/train_batches\"\n",
        "test_batches_dir = \"/content/ds_split/test_batches\"\n",
        "val_batches_dir = \"/content/ds_split/val_batches\"\n",
        "\n",
        "# Creazione dei Dataset\n",
        "train_dataset = VideoROIDataset(train_txt, train_batches_dir)\n",
        "test_dataset = VideoROIDataset(test_txt, test_batches_dir)\n",
        "val_dataset = VideoROIDataset(val_txt, val_batches_dir)\n",
        "\n",
        "# Creazione dei DataLoader\n",
        "dl_batch_size = 32\n",
        "train_loader = DataLoader(train_dataset, batch_size=dl_batch_size, shuffle=True, num_workers=2)\n",
        "test_loader = DataLoader(test_dataset, batch_size=dl_batch_size, shuffle=False, num_workers=2)\n",
        "val_loader = DataLoader(val_dataset, batch_size=dl_batch_size, shuffle=False, num_workers=2)\n",
        "\n",
        "print(\"DataLoader created succesfully!\")"
      ],
      "metadata": {
        "id": "e9FN2z-YwGwK"
      },
      "execution_count": null,
      "outputs": []
    },
    {
      "cell_type": "markdown",
      "metadata": {
        "id": "KX2vyS3vTcjI"
      },
      "source": [
        "# Model"
      ]
    },
    {
      "cell_type": "markdown",
      "source": [
        "## Model Definition"
      ],
      "metadata": {
        "id": "DMz__vcqfXey"
      }
    },
    {
      "cell_type": "code",
      "source": [
        "import torch\n",
        "import torch.nn as nn\n",
        "import torchvision.models as models\n",
        "\n",
        "class MultiInputMobileNetLSTM(nn.Module):\n",
        "    def __init__(self, num_frames=20, num_classes=2, class_weights=None):\n",
        "        super(MultiInputMobileNetLSTM, self).__init__()\n",
        "        self.num_frames = num_frames\n",
        "\n",
        "        # Backbone MobileNetV2 for each ROI\n",
        "        self.backbone_eyes = self._initialize_mobilenet()\n",
        "        self.backbone_nose = self._initialize_mobilenet()\n",
        "        self.backbone_mouth = self._initialize_mobilenet()\n",
        "\n",
        "        # GAP Layer\n",
        "        self.gap = nn.AdaptiveAvgPool2d((1, 1))\n",
        "\n",
        "        # LSTM for time analysis\n",
        "        feature_dim = 1280;\n",
        "        self.lstm = nn.LSTM(input_size=feature_dim * 3, hidden_size=512, num_layers=1, batch_first=True)\n",
        "\n",
        "        # Fully connected layer for classification\n",
        "        self.fc = nn.Linear(512, 1)\n",
        "\n",
        "        # Add class weights if given\n",
        "        if class_weights is not None:\n",
        "            self.class_weights = torch.tensor(class_weights, dtype=torch.float32)\n",
        "        else:\n",
        "            self.class_weights = None\n",
        "\n",
        "    # Initialize MobileNetV2 with first frozen layers\n",
        "    def _initialize_mobilenet(self):\n",
        "        mobilenet = models.mobilenet_v2(pretrained=True, width_mult=1)\n",
        "\n",
        "        # Freeze first 14 layers\n",
        "        for idx, layer in enumerate(mobilenet.features):\n",
        "            if idx < 14:\n",
        "                for param in layer.parameters():\n",
        "                    param.requires_grad = False\n",
        "\n",
        "        return nn.Sequential(*mobilenet.features)\n",
        "\n",
        "\n",
        "    def forward(self, eyes, nose, mouth):\n",
        "        batch_size = eyes.size(0) // self.num_frames\n",
        "\n",
        "        # Extract feature through backbone MobileNet\n",
        "        eyes_features = self.backbone_eyes(eyes)  # [B*num_frames, 1280, 1, 1]\n",
        "        nose_features = self.backbone_nose(nose)\n",
        "        mouth_features = self.backbone_mouth(mouth)\n",
        "\n",
        "        # Apply Global Average Pooling\n",
        "        eyes_features = self.gap(eyes_features).squeeze(-1).squeeze(-1)  # [B*num_frames, 1280]\n",
        "        nose_features = self.gap(nose_features).squeeze(-1).squeeze(-1)\n",
        "        mouth_features = self.gap(mouth_features).squeeze(-1).squeeze(-1)\n",
        "\n",
        "        # Resize to proper dimensions\n",
        "        eyes_features_2 = eyes_features.view(batch_size, self.num_frames, -1)  # [B, num_frames, 1280]\n",
        "        nose_features_2 = nose_features.view(batch_size, self.num_frames, -1)\n",
        "        mouth_features_2 = mouth_features.view(batch_size, self.num_frames, -1)\n",
        "\n",
        "        # Concatenation\n",
        "        concatenated_features = torch.cat((eyes_features_2, nose_features_2, mouth_features_2), dim=2)  # [B, num_frames, 3840]\n",
        "\n",
        "        # LSTM for time analysis\n",
        "        lstm_out, _ = self.lstm(concatenated_features)  # [B, num_frames, 512]\n",
        "\n",
        "        # Use onl last frame output for classification\n",
        "        lstm_final_output = lstm_out[:, -1, :]  # [B, 512]\n",
        "\n",
        "        # Fully connected layer\n",
        "        logits = self.fc(lstm_final_output)  # [B, 1]\n",
        "\n",
        "        # Aplly sigmoid for probabilities\n",
        "        probabilities = torch.sigmoid(logits)  # [B, 1]\n",
        "\n",
        "        return probabilities.squeeze()  # [B]\n",
        "\n",
        "    def get_loss(self, outputs, labels):\n",
        "        if self.class_weights is not None:\n",
        "            pos_weight = torch.tensor([self.class_weights[1] / self.class_weights[0]]).to(outputs.device)\n",
        "            criterion = nn.BCEWithLogitsLoss(pos_weight=pos_weight)\n",
        "        else:\n",
        "            criterion = nn.BCEWithLogitsLoss()\n",
        "        return criterion(outputs.squeeze(), labels.float())\n",
        "\n",
        "\n"
      ],
      "metadata": {
        "id": "Ge62wH-_RBuh"
      },
      "execution_count": null,
      "outputs": []
    },
    {
      "cell_type": "markdown",
      "source": [
        "# Train"
      ],
      "metadata": {
        "id": "v8VLSfMkSsbA"
      }
    },
    {
      "cell_type": "code",
      "source": [
        "# Weighta for unbalanced classes compensation\n",
        "total_real = 826\n",
        "total_fake = 5414\n",
        "class_weights = [1.0 / total_real, 1.0 / total_fake]"
      ],
      "metadata": {
        "id": "nUHaqXmDySkd"
      },
      "execution_count": null,
      "outputs": []
    },
    {
      "cell_type": "markdown",
      "source": [
        "### forward test"
      ],
      "metadata": {
        "id": "UZYgMUOkGlSW"
      }
    },
    {
      "cell_type": "markdown",
      "source": [
        "Function to test forward pass, mainly for debug"
      ],
      "metadata": {
        "id": "O26oFvNfxsw4"
      }
    },
    {
      "cell_type": "code",
      "source": [
        "# Initialize the model\n",
        "model = MultiInputMobileNetLSTM(class_weights=class_weights)\n",
        "device = torch.device(\"cuda\" if torch.cuda.is_available() else \"cpu\")\n",
        "model = model.to(device)\n",
        "\n",
        "# Script for forward method test\n",
        "def test_forward():\n",
        "    # Parameters\n",
        "    batch_size = 8  # Numero di video nel batch\n",
        "    num_frames = 20  # Numero di frame per video\n",
        "    input_size = (3, 64, 64)  # Dimensioni di ciascun frame (C, H, W)\n",
        "\n",
        "    # Test with random data\n",
        "    eyes = torch.randn(batch_size * num_frames, *input_size)  # [B*num_frames, 3, 64, 64]\n",
        "    nose = torch.randn(batch_size * num_frames, *input_size)\n",
        "    mouth = torch.randn(batch_size * num_frames, *input_size)\n",
        "\n",
        "    model.eval()\n",
        "\n",
        "    # Execute forward pass\n",
        "    with torch.no_grad():\n",
        "        outputs = model(eyes, nose, mouth)\n",
        "\n",
        "    # Print results\n",
        "    print(f\"Output shape: {outputs.shape}\")  # [B]\n",
        "    print(f\"Outputs: {outputs}\")\n",
        "\n",
        "# Run the test\n",
        "test_forward()"
      ],
      "metadata": {
        "id": "MEPaf0kzGkQF"
      },
      "execution_count": null,
      "outputs": []
    },
    {
      "cell_type": "markdown",
      "source": [
        "### checkpoint download"
      ],
      "metadata": {
        "id": "x1JnFCbi_KxH"
      }
    },
    {
      "cell_type": "markdown",
      "source": [
        "To start training from a specified checkpoint. DON'T RUN"
      ],
      "metadata": {
        "id": "XmIESCOox0lg"
      }
    },
    {
      "cell_type": "code",
      "source": [
        "CHECKPOINT_PATH = \"/content/drive/MyDrive/deepfake_ds/model_checkpoints/\"\n",
        "model.load_state_dict(torch.load(f\"{CHECKPOINT_PATH}best_model.pth\"))\n",
        "model = model.to(device)"
      ],
      "metadata": {
        "id": "BywrrhRU_Hrp"
      },
      "execution_count": null,
      "outputs": []
    },
    {
      "cell_type": "markdown",
      "source": [
        "## Train loop"
      ],
      "metadata": {
        "id": "GpPt67w6yYmf"
      }
    },
    {
      "cell_type": "code",
      "source": [
        "# Path for checkpoints\n",
        "CHECKPOINT_PATH = \"/content/drive/MyDrive/deepfake_ds/model_checkpoints/\"\n",
        "\n",
        "# Early Stopping\n",
        "class EarlyStopping:\n",
        "    def __init__(self, patience=3):\n",
        "        self.patience = patience\n",
        "        self.counter = 0\n",
        "        self.best_loss = float(\"inf\")\n",
        "        self.early_stop = False\n",
        "\n",
        "    def __call__(self, val_loss):\n",
        "        if val_loss < self.best_loss:\n",
        "            self.best_loss = val_loss\n",
        "            self.counter = 0\n",
        "        else:\n",
        "            self.counter += 1\n",
        "            if self.counter >= self.patience:\n",
        "                self.early_stop = True\n",
        "\n",
        "# Model initialization\n",
        "device = torch.device(\"cuda\" if torch.cuda.is_available() else \"cpu\")\n",
        "model = MultiInputMobileNetLSTM(class_weights=class_weights)\n",
        "model = model.to(device)\n",
        "\n",
        "# Loss and optimizer\n",
        "pos_weight = torch.tensor([class_weights[1] / class_weights[0]], dtype=torch.float32).to(device)\n",
        "criterion = nn.BCEWithLogitsLoss(pos_weight=pos_weight)\n",
        "optimizer = Adam(model.parameters(), lr=0.001)\n",
        "\n",
        "# Training configuration\n",
        "num_epochs = 30\n",
        "early_stopping = EarlyStopping(patience=5)  # Early stopping dopo 5 epoche senza miglioramenti\n",
        "\n",
        "# Training loop\n",
        "best_val_loss = float(\"inf\")\n",
        "for epoch in range(num_epochs):\n",
        "    start_time = time.time()\n",
        "    model.train()\n",
        "    running_loss = 0.0\n",
        "\n",
        "    for batch_idx, batch in enumerate(train_loader):\n",
        "        eyes = batch[\"eyes\"].view(-1, 3, 64, 64).to(device)\n",
        "        nose = batch[\"nose\"].view(-1, 3, 64, 64).to(device)\n",
        "        mouth = batch[\"mouth\"].view(-1, 3, 64, 64).to(device)\n",
        "        labels = batch[\"label\"].float().to(device)\n",
        "\n",
        "        # Forward pass\n",
        "        outputs = model(eyes, nose, mouth)  # [B, 1] -> [B]\n",
        "        loss = criterion(outputs, labels)\n",
        "\n",
        "        # Backward pass and optimization\n",
        "        optimizer.zero_grad()\n",
        "        loss.backward()\n",
        "        optimizer.step()\n",
        "\n",
        "        running_loss += loss.item()\n",
        "\n",
        "    avg_train_loss = running_loss / len(train_loader)\n",
        "    print(f\"Epoch [{epoch+1}/{num_epochs}] Training Loss: {avg_train_loss:.4f}\")\n",
        "\n",
        "    # Validation step\n",
        "    model.eval()\n",
        "    total_correct = 0\n",
        "    total_samples = 0\n",
        "    val_loss = 0.0\n",
        "    with torch.no_grad():\n",
        "        for val_batch in val_loader:\n",
        "            eyes = val_batch[\"eyes\"].view(-1, 3, 64, 64).to(device)\n",
        "            nose = val_batch[\"nose\"].view(-1, 3, 64, 64).to(device)\n",
        "            mouth = val_batch[\"mouth\"].view(-1, 3, 64, 64).to(device)\n",
        "            labels = val_batch[\"label\"].float().to(device)\n",
        "\n",
        "            outputs = model(eyes, nose, mouth)  # [B, 1] -> [B]\n",
        "            val_loss += criterion(outputs, labels).item()\n",
        "\n",
        "            predicted = (outputs > 0.5).long()  # Soglia per BCE\n",
        "            total_correct += (predicted == labels.long()).sum().item()\n",
        "            total_samples += labels.size(0)\n",
        "\n",
        "    avg_val_loss = val_loss / len(val_loader)\n",
        "    val_accuracy = total_correct / total_samples\n",
        "    print(f\"Epoch [{epoch+1}/{num_epochs}] Validation Loss: {avg_val_loss:.4f}, Accuracy: {val_accuracy:.4f}\")\n",
        "\n",
        "    # Save checkpoint we have if better validation loss\n",
        "    if avg_val_loss < best_val_loss:\n",
        "        best_val_loss = avg_val_loss\n",
        "        torch.save(model.state_dict(), f\"{CHECKPOINT_PATH}best_model_2.pth\")\n",
        "        print(f\"Saved checkpoint: improved Validation Loss {best_val_loss:.4f}\")\n",
        "\n",
        "    # Early Stopping\n",
        "    early_stopping(avg_val_loss)\n",
        "    if early_stopping.early_stop:\n",
        "        print(\"Activated early stopping!\")\n",
        "        break\n",
        "\n",
        "    epoch_time = time.time() - start_time\n",
        "    print(f\"Time for epoch: {epoch_time / 60:.2f} minutes\")\n"
      ],
      "metadata": {
        "id": "9czawN94RUWw",
        "colab": {
          "base_uri": "https://localhost:8080/"
        },
        "outputId": "bd35b7cc-d762-4a57-e3d8-a0a7d8ebed5a"
      },
      "execution_count": null,
      "outputs": [
        {
          "output_type": "stream",
          "name": "stdout",
          "text": [
            "Epoch [1/30] Training Loss: 0.1610\n",
            "Epoch [1/30] Validation Loss: 0.1534, Accuracy: 0.8131\n",
            "Checkpoint salvato: Validation Loss migliorata a 0.1534\n",
            "Tempo per epoca: 12.03 minuti\n",
            "Epoch [2/30] Training Loss: 0.1519\n",
            "Epoch [2/30] Validation Loss: 0.1502, Accuracy: 0.8387\n",
            "Checkpoint salvato: Validation Loss migliorata a 0.1502\n",
            "Tempo per epoca: 12.29 minuti\n",
            "Epoch [3/30] Training Loss: 0.1500\n",
            "Epoch [3/30] Validation Loss: 0.1522, Accuracy: 0.8562\n",
            "Tempo per epoca: 12.22 minuti\n",
            "Epoch [4/30] Training Loss: 0.1479\n",
            "Epoch [4/30] Validation Loss: 0.1520, Accuracy: 0.8978\n",
            "Tempo per epoca: 12.43 minuti\n",
            "Epoch [5/30] Training Loss: 0.1468\n",
            "Epoch [5/30] Validation Loss: 0.1484, Accuracy: 0.9185\n",
            "Checkpoint salvato: Validation Loss migliorata a 0.1484\n",
            "Tempo per epoca: 12.20 minuti\n",
            "Epoch [6/30] Training Loss: 0.1446\n",
            "Epoch [6/30] Validation Loss: 0.1499, Accuracy: 0.8930\n",
            "Tempo per epoca: 12.14 minuti\n",
            "Epoch [7/30] Training Loss: 0.1439\n",
            "Epoch [7/30] Validation Loss: 0.1460, Accuracy: 0.9249\n",
            "Checkpoint salvato: Validation Loss migliorata a 0.1460\n",
            "Tempo per epoca: 12.24 minuti\n",
            "Epoch [8/30] Training Loss: 0.1435\n",
            "Epoch [8/30] Validation Loss: 0.1469, Accuracy: 0.9026\n",
            "Tempo per epoca: 12.59 minuti\n",
            "Epoch [9/30] Training Loss: 0.1424\n",
            "Epoch [9/30] Validation Loss: 0.1431, Accuracy: 0.8770\n",
            "Checkpoint salvato: Validation Loss migliorata a 0.1431\n",
            "Tempo per epoca: 12.71 minuti\n",
            "Epoch [10/30] Training Loss: 0.1430\n",
            "Epoch [10/30] Validation Loss: 0.1447, Accuracy: 0.8722\n",
            "Tempo per epoca: 12.87 minuti\n",
            "Epoch [11/30] Training Loss: 0.1424\n",
            "Epoch [11/30] Validation Loss: 0.1453, Accuracy: 0.9201\n",
            "Tempo per epoca: 12.38 minuti\n",
            "Epoch [12/30] Training Loss: 0.1408\n",
            "Epoch [12/30] Validation Loss: 0.1465, Accuracy: 0.9361\n",
            "Tempo per epoca: 13.00 minuti\n",
            "Epoch [13/30] Training Loss: 0.1424\n",
            "Epoch [13/30] Validation Loss: 0.1477, Accuracy: 0.8994\n",
            "Tempo per epoca: 12.54 minuti\n",
            "Epoch [14/30] Training Loss: 0.1413\n",
            "Epoch [14/30] Validation Loss: 0.1455, Accuracy: 0.9201\n",
            "Early stopping attivato!\n"
          ]
        }
      ]
    },
    {
      "cell_type": "markdown",
      "source": [
        "### Saved metrics version"
      ],
      "metadata": {
        "id": "U50eebgeTYty"
      }
    },
    {
      "cell_type": "code",
      "source": [
        "train_losses = []\n",
        "val_losses = []\n",
        "val_accuracies = []\n",
        "\n",
        "# Ciclo di addestramento\n",
        "best_val_loss = float(\"inf\")\n",
        "for epoch in range(num_epochs):\n",
        "    start_time = time.time()\n",
        "    model.train()\n",
        "    running_loss = 0.0\n",
        "\n",
        "    for batch_idx, batch in enumerate(train_loader):\n",
        "        eyes = batch[\"eyes\"].view(-1, 3, 64, 64).to(device)\n",
        "        nose = batch[\"nose\"].view(-1, 3, 64, 64).to(device)\n",
        "        mouth = batch[\"mouth\"].view(-1, 3, 64, 64).to(device)\n",
        "        labels = batch[\"label\"].float().to(device)\n",
        "\n",
        "        # Forward pass\n",
        "        outputs = model(eyes, nose, mouth)  # [B, 1] -> [B]\n",
        "        loss = criterion(outputs, labels)\n",
        "\n",
        "        # Backward pass e ottimizzazione\n",
        "        optimizer.zero_grad()\n",
        "        loss.backward()\n",
        "        optimizer.step()\n",
        "\n",
        "        running_loss += loss.item()\n",
        "\n",
        "    avg_train_loss = running_loss / len(train_loader)\n",
        "    print(f\"Epoch [{epoch+1}/{num_epochs}] Training Loss: {avg_train_loss:.4f}\")\n",
        "\n",
        "    # Validazione\n",
        "    model.eval()\n",
        "    total_correct = 0\n",
        "    total_samples = 0\n",
        "    val_loss = 0.0\n",
        "    with torch.no_grad():\n",
        "        for val_batch in val_loader:\n",
        "            eyes = val_batch[\"eyes\"].view(-1, 3, 64, 64).to(device)\n",
        "            nose = val_batch[\"nose\"].view(-1, 3, 64, 64).to(device)\n",
        "            mouth = val_batch[\"mouth\"].view(-1, 3, 64, 64).to(device)\n",
        "            labels = val_batch[\"label\"].float().to(device)\n",
        "\n",
        "            outputs = model(eyes, nose, mouth)  # [B, 1] -> [B]\n",
        "            val_loss += criterion(outputs, labels).item()\n",
        "\n",
        "            predicted = (outputs > 0.5).long()  # Soglia per BCE\n",
        "            total_correct += (predicted == labels.long()).sum().item()\n",
        "            total_samples += labels.size(0)\n",
        "\n",
        "    avg_val_loss = val_loss / len(val_loader)\n",
        "    val_accuracy = total_correct / total_samples\n",
        "    print(f\"Epoch [{epoch+1}/{num_epochs}] Validation Loss: {avg_val_loss:.4f}, Accuracy: {val_accuracy:.4f}\")\n",
        "\n",
        "    # Salva le metriche\n",
        "    train_losses.append(avg_train_loss)\n",
        "    val_losses.append(avg_val_loss)\n",
        "    val_accuracies.append(val_accuracy)\n",
        "\n",
        "    # Salvataggio del checkpoint se migliora\n",
        "    if avg_val_loss < best_val_loss:\n",
        "        best_val_loss = avg_val_loss\n",
        "        torch.save(model.state_dict(), f\"{CHECKPOINT_PATH}best_model_2.pth\")\n",
        "        print(f\"Saved checkpoint: improved Validation Loss {best_val_loss:.4f}\")\n",
        "\n",
        "    # Early Stopping\n",
        "    early_stopping(avg_val_loss)\n",
        "    if early_stopping.early_stop:\n",
        "        print(\"Activated early stopping!\")\n",
        "        break\n",
        "\n",
        "    epoch_time = time.time() - start_time\n",
        "    print(f\"Time for epoch: {epoch_time / 60:.2f} minutes\")"
      ],
      "metadata": {
        "id": "SwfsjrAUTbEq"
      },
      "execution_count": null,
      "outputs": []
    },
    {
      "cell_type": "markdown",
      "source": [
        "## Test step"
      ],
      "metadata": {
        "id": "jqnqCYkd8Nwr"
      }
    },
    {
      "cell_type": "code",
      "source": [
        "CHECKPOINT_PATH = \"/content/drive/MyDrive/deepfake_ds/model_checkpoints/\"\n",
        "\n",
        "# Load weights\n",
        "model.load_state_dict(torch.load(f\"{CHECKPOINT_PATH}best_model.pth\", weights_only=True))\n",
        "model.eval()\n",
        "test_loss = 0.0\n",
        "total_correct = 0\n",
        "total_samples = 0\n",
        "\n",
        "with torch.no_grad():\n",
        "    for test_batch in test_loader:\n",
        "        eyes = test_batch[\"eyes\"].view(-1, 3, 64, 64).to(device)   # Da [batch_size, 20, 3, 64, 64] a [batch_size*20, 3, 64, 64]\n",
        "        nose = test_batch[\"nose\"].view(-1, 3, 64, 64).to(device)\n",
        "        mouth = test_batch[\"mouth\"].view(-1, 3, 64, 64).to(device)\n",
        "        labels = test_batch[\"label\"].to(device)\n",
        "\n",
        "        outputs = model(eyes, nose, mouth)\n",
        "        test_loss += criterion(outputs, labels).item()\n",
        "\n",
        "        predicted = (outputs > 0.5).long()\n",
        "        total_correct += (predicted == labels.long()).sum().item()\n",
        "        total_samples += labels.size(0)\n",
        "\n",
        "avg_test_loss = test_loss / len(test_loader)\n",
        "test_accuracy = total_correct / total_samples\n",
        "print(f\"Test Loss: {avg_test_loss:.4f}, Test Accuracy: {test_accuracy:.4f}\")"
      ],
      "metadata": {
        "colab": {
          "base_uri": "https://localhost:8080/"
        },
        "id": "AXrd5DIg8PoN",
        "outputId": "9c190abf-dcaa-4bea-b1cc-cfe01fbc20de"
      },
      "execution_count": null,
      "outputs": [
        {
          "output_type": "stream",
          "name": "stdout",
          "text": [
            "Test Loss: 0.1791, Test Accuracy: 0.8869\n"
          ]
        }
      ]
    },
    {
      "cell_type": "markdown",
      "source": [
        "## Graph"
      ],
      "metadata": {
        "id": "xy7mfUpy8R8I"
      }
    },
    {
      "cell_type": "code",
      "source": [
        "# Results from previous iteration (14 epochs, early stopping)\n",
        "train_losses = [0.1610, 0.1519, 0.1500, 0.1479, 0.1468, 0.1446, 0.1439, 0.1435, 0.1424, 0.1430, 0.1424, 0.1408, 0.1424, 0.1413]\n",
        "val_losses = [0.1534, 0.1502, 0.1522, 0.1520, 0.1484, 0.1499, 0.1460, 0.1469, 0.1431, 0.1447, 0.1453, 0.1465, 0.1477, 0.1455]\n",
        "val_accuracies = [0.8131, 0.8387, 0.8562, 0.8978, 0.9185, 0.8930, 0.9249, 0.9026, 0.8770, 0.8722, 0.9201, 0.9361, 0.8994, 0.9201]"
      ],
      "metadata": {
        "id": "aIE7QY7xoHOC"
      },
      "execution_count": null,
      "outputs": []
    },
    {
      "cell_type": "code",
      "source": [
        "import matplotlib.pyplot as plt\n",
        "\n",
        "# Loss Graph\n",
        "plt.figure(figsize=(10, 5))\n",
        "plt.plot(train_losses, label=\"Training Loss\")\n",
        "plt.plot(val_losses, label=\"Validation Loss\")\n",
        "plt.xlabel(\"Epochs\")\n",
        "plt.ylabel(\"Loss\")\n",
        "plt.title(\"Training and Validation Loss\")\n",
        "plt.legend()\n",
        "plt.show()\n",
        "\n",
        "# Accuracy Graph\n",
        "plt.figure(figsize=(10, 5))\n",
        "plt.plot(val_accuracies, label=\"Validation Accuracy\")\n",
        "plt.xlabel(\"Epochs\")\n",
        "plt.ylabel(\"Accuracy\")\n",
        "plt.title(\"Validation Accuracy\")\n",
        "plt.legend()\n",
        "plt.show()\n"
      ],
      "metadata": {
        "colab": {
          "base_uri": "https://localhost:8080/",
          "height": 957
        },
        "id": "0PxfqRj2SIGA",
        "outputId": "322cea0c-74d8-48c1-9bfe-dc6a23fa01bc"
      },
      "execution_count": null,
      "outputs": [
        {
          "output_type": "display_data",
          "data": {
            "text/plain": [
              "<Figure size 1000x500 with 1 Axes>"
            ],
            "image/png": "[encoded data removed]"
          },
          "metadata": {}
        },
        {
          "output_type": "display_data",
          "data": {
            "text/plain": [
              "<Figure size 1000x500 with 1 Axes>"
            ],
            "image/png": "[encoded data removed]"
          },
          "metadata": {}
        }
      ]
    }
  ],
  "metadata": {
    "colab": {
      "provenance": [],
      "collapsed_sections": [
        "UZYgMUOkGlSW",
        "x1JnFCbi_KxH"
      ],
      "toc_visible": true,
      "machine_shape": "hm",
      "gpuType": "V28"
    },
    "kernelspec": {
      "display_name": "Python 3",
      "name": "python3"
    },
    "language_info": {
      "name": "python"
    },
    "accelerator": "TPU"
  },
  "nbformat": 4,
  "nbformat_minor": 0
}